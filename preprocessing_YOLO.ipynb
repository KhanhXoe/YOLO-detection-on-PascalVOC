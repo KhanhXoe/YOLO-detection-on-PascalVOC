{
 "cells": [
  {
   "cell_type": "markdown",
   "metadata": {},
   "source": [
    "# Dataloader"
   ]
  },
  {
   "cell_type": "code",
   "execution_count": 3,
   "metadata": {},
   "outputs": [],
   "source": [
    "import pandas as pd\n",
    "import numpy as np\n",
    "import os\n",
    "from PIL import Image\n",
    "\n",
    "import torch\n",
    "import torch.nn as nn\n",
    "from torch.utils.data import Dataset, DataLoader"
   ]
  },
  {
   "cell_type": "code",
   "execution_count": 4,
   "metadata": {},
   "outputs": [],
   "source": [
    "class VOCDataset(Dataset):\n",
    "    def __init__(self, csv_file, img_dir, label_dir, S=7, B=2, C=20, transforms = None):\n",
    "        self.annotations = pd.read_csv(csv_file)\n",
    "        self.img_dir = img_dir\n",
    "        self.label_dir = label_dir\n",
    "        self.transforms = transforms\n",
    "        self.S = S\n",
    "        self.B = B\n",
    "        self.C = C\n",
    "    \n",
    "    def __len__(self):\n",
    "        return len(self.annotations)\n",
    "    \n",
    "    def __getitem__(self, index):\n",
    "        label_path = os.path.join(self.label_dir, self.annotations.iloc[index, 1])\n",
    "        boxes = list()\n",
    "        with open(label_path) as f:\n",
    "            for label in f.readlines():\n",
    "                class_label, x, y, w, h = [\n",
    "                    float(x) if float(x) != int (float(x)) \n",
    "                            else int(x) for x in label.replace(\"\\n\", \"\").split()\n",
    "                ]\n",
    "                boxes.append([class_label, x, y, w, h])\n",
    "        \n",
    "        img_path = os.path.join(self.img_dir, self.annotations.iloc[index, 0])\n",
    "        image = Image.open(img_path)\n",
    "        boxes = torch.tensor(boxes)\n",
    "\n",
    "        if self.transforms is not None:\n",
    "            image, boxes = self.transforms(image, boxes)\n",
    "        \n",
    "        label_matrix = torch.zeros((self.S, self.S, self.B*5 + self.C))\n",
    "        for box in boxes:\n",
    "            class_label, x, y, w, h = box.tolist()\n",
    "            class_label = int(class_label)\n",
    "\n",
    "            #i, j biểu diễn cho chỉ số hàng và cột của ô lưới chứa boundbox \n",
    "            i, j = int(self.S * y), int(self.S * x)\n",
    "            x_cell, y_cell = self.S * x - j, self.S *y - i\n",
    "            w_cell, h_cell = (w * self.S, h * self.S)\n",
    "\n",
    "            if label_matrix[i, j, 20] == 0:\n",
    "                label_matrix[i, j, 20] = 1\n",
    "\n",
    "                box_coordinates = torch.tensor(\n",
    "                    [x_cell, y_cell, w_cell, h_cell]\n",
    "                )\n",
    "                label_matrix[i, j, 21:25] = box_coordinates\n",
    "                label_matrix[i, j, class_label] = 1\n",
    "        \n",
    "        return image, label_matrix\n"
   ]
  },
  {
   "cell_type": "code",
   "execution_count": null,
   "metadata": {},
   "outputs": [],
   "source": []
  },
  {
   "cell_type": "code",
   "execution_count": null,
   "metadata": {},
   "outputs": [],
   "source": []
  }
 ],
 "metadata": {
  "kernelspec": {
   "display_name": "base",
   "language": "python",
   "name": "python3"
  },
  "language_info": {
   "codemirror_mode": {
    "name": "ipython",
    "version": 3
   },
   "file_extension": ".py",
   "mimetype": "text/x-python",
   "name": "python",
   "nbconvert_exporter": "python",
   "pygments_lexer": "ipython3",
   "version": "3.12.3"
  }
 },
 "nbformat": 4,
 "nbformat_minor": 2
}
